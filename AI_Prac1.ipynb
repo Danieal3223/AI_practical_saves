{
  "nbformat": 4,
  "nbformat_minor": 0,
  "metadata": {
    "colab": {
      "provenance": [],
      "authorship_tag": "ABX9TyOSL1WSRtkuWA/R704wNB85",
      "include_colab_link": true
    },
    "kernelspec": {
      "name": "python3",
      "display_name": "Python 3"
    },
    "language_info": {
      "name": "python"
    }
  },
  "cells": [
    {
      "cell_type": "markdown",
      "metadata": {
        "id": "view-in-github",
        "colab_type": "text"
      },
      "source": [
        "<a href=\"https://colab.research.google.com/github/Danieal3223/AI_practical_saves/blob/main/AI_Prac1.ipynb\" target=\"_parent\"><img src=\"https://colab.research.google.com/assets/colab-badge.svg\" alt=\"Open In Colab\"/></a>"
      ]
    },
    {
      "cell_type": "code",
      "execution_count": null,
      "metadata": {
        "colab": {
          "base_uri": "https://localhost:8080/"
        },
        "id": "3cvZ6tZKpZgA",
        "outputId": "9941fca9-59b2-4757-de11-542be1c138b9"
      },
      "outputs": [
        {
          "output_type": "stream",
          "name": "stdout",
          "text": [
            "Enter radius value >> 2\n",
            "Enter height value >> 5\n",
            "62.8318\n"
          ]
        }
      ],
      "source": [
        "pi = 3.14159\n",
        "r = float(input('Enter radius value >> '))\n",
        "h = float(input('Enter height value >> '))\n",
        "v = pi* r**2 * h\n",
        "print(v)"
      ]
    },
    {
      "cell_type": "code",
      "source": [
        "import time\n",
        "ms = time.time()\n",
        "end = ms + 1\n",
        "print(end)\n",
        "duration = end - ms\n",
        "print(duration)"
      ],
      "metadata": {
        "colab": {
          "base_uri": "https://localhost:8080/"
        },
        "id": "yt0_Gyor9V-9",
        "outputId": "da036f1c-195a-4108-a7ae-afa84a60bec4"
      },
      "execution_count": null,
      "outputs": [
        {
          "output_type": "stream",
          "name": "stdout",
          "text": [
            "1750920079.0000124\n",
            "1.0\n"
          ]
        }
      ]
    },
    {
      "cell_type": "code",
      "source": [
        "import random\n",
        "import time\n",
        "import math\n",
        "\n",
        "\n",
        "x1 = random.randrange(0, 1280, 3)  # Even integer from 0 to 100\n",
        "y1 = random.randrange(0, 800, 3)\n",
        "print(x1, y1)\n",
        "\n",
        "x2 = random.randrange(0, 1280, 3)\n",
        "y2 = random.randrange(0, 1280, 3)\n",
        "print(x2, y2)\n",
        "\n",
        "ms = time.time()\n",
        "end = ms + 1\n",
        "print(end)\n",
        "duration = end - ms\n",
        "print(duration)\n",
        "\n",
        "speed = 0\n",
        "def calcualteMouseSpeed(x1,x2,y1,y2):\n",
        "  d = math.sqrt((x2-x1)**2+(y2-y1)**2)\n",
        "  t = end = ms\n",
        "  speed = d/t\n",
        "  return speed\n",
        "\n",
        "print(calcualteMouseSpeed(x1,x2,y1,y2))"
      ],
      "metadata": {
        "id": "hLURNjnX-Oq9",
        "colab": {
          "base_uri": "https://localhost:8080/"
        },
        "outputId": "37efd76d-abf3-43a7-d0b6-7ed85d8131f7"
      },
      "execution_count": null,
      "outputs": [
        {
          "output_type": "stream",
          "name": "stdout",
          "text": [
            "213 510\n",
            "912 678\n",
            "1751213613.0687203\n",
            "1.0\n",
            "4.1051840450809296e-07\n"
          ]
        }
      ]
    },
    {
      "cell_type": "code",
      "source": [],
      "metadata": {
        "id": "5MSsAC5-dzdu"
      },
      "execution_count": null,
      "outputs": []
    }
  ]
}