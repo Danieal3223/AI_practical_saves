{
  "cells": [
    {
      "cell_type": "markdown",
      "metadata": {
        "id": "view-in-github",
        "colab_type": "text"
      },
      "source": [
        "<a href=\"https://colab.research.google.com/github/Danieal3223/REPO-1-/blob/main/Practical_1_Getting_Started_with_Python_(Part_2).ipynb\" target=\"_parent\"><img src=\"https://colab.research.google.com/assets/colab-badge.svg\" alt=\"Open In Colab\"/></a>"
      ]
    },
    {
      "cell_type": "markdown",
      "metadata": {
        "id": "hevv0ra7Lw3Q"
      },
      "source": [
        "# Practical 1: Getting Started with Python (Part 2)"
      ]
    },
    {
      "cell_type": "markdown",
      "metadata": {
        "id": "H2H-7sbNLw3T"
      },
      "source": [
        "## 6 - Collections\n",
        "In python there are four fundamental types of sequences to hold collections of items.\n",
        "* List\n",
        "* Tuple\n",
        "* Set\n",
        "* Dictionary"
      ]
    },
    {
      "cell_type": "markdown",
      "metadata": {
        "id": "ZWRvo4O3Lw3T"
      },
      "source": [
        "## 6.1 - List\n",
        "Lists are collections of *heterogeneous objects* (values from different data types), which can be of any type, including other lists. Lists are **mutable** (edit/delete/add/modify), i.e. you can modify the members of the list"
      ]
    },
    {
      "cell_type": "markdown",
      "metadata": {
        "id": "Qsgde5RrLw3U"
      },
      "source": [
        "### 6.1.1 - Creating a list"
      ]
    },
    {
      "cell_type": "code",
      "execution_count": null,
      "metadata": {
        "id": "aTjetHWdLw3U",
        "colab": {
          "base_uri": "https://localhost:8080/"
        },
        "outputId": "14640636-04c2-4ff8-ea3d-7ed22668dc19"
      },
      "outputs": [
        {
          "output_type": "stream",
          "name": "stdout",
          "text": [
            "[1, 2, 3, 4, 5, 6, 7]\n",
            "['Kevin', 18, 3.85, ['BACS2003', 'BACS2063']]\n"
          ]
        }
      ],
      "source": [
        "numbers = [1, 2, 3, 4, 5, 6, 7]\n",
        "student = ['Kevin', 18, 3.85, ['BACS2003', 'BACS2063']]\n",
        "\n",
        "print (numbers)\n",
        "print (student)"
      ]
    },
    {
      "cell_type": "markdown",
      "metadata": {
        "id": "_jPadCC2Lw3V"
      },
      "source": [
        "### 6.1.2 - Modifying a list (Mutable)"
      ]
    },
    {
      "cell_type": "code",
      "execution_count": null,
      "metadata": {
        "id": "1hUnug-ELw3W",
        "colab": {
          "base_uri": "https://localhost:8080/"
        },
        "outputId": "4f1d41e8-a3ed-4b39-f250-12366f42ccab"
      },
      "outputs": [
        {
          "output_type": "stream",
          "name": "stdout",
          "text": [
            "[1, 2, 99, 4, 5, 6, 7, 'Kevin', 18, 3.85, ['BACS2003', 'BACS2063']]\n",
            "[1, 2, 99, 4, 5, 6, 7, 100]\n",
            "[1, 'C', 2, 99, 4, 5, 6, 7, 100]\n",
            "['C', 2, 99, 4, 5, 6, 7, 100]\n",
            "[1, 3, 4, 5, 6, 7]\n",
            "[1, 4, 5, 6, 7]\n"
          ]
        }
      ],
      "source": [
        "numbers[2] = 99  \t# modify item with index 2\n",
        "print(numbers + student) # to combine 2 lists\n",
        "\n",
        "numbers.append(100) \t# append a new value to last\n",
        "print(numbers)\n",
        "\n",
        "numbers.insert(1, 'C')\t# insert a new value to index 1\n",
        "print(numbers)\n",
        "\n",
        "numbers.remove(1) \t# remove the item with value 1\n",
        "print(numbers)\n",
        "\n",
        "numbers = [1, 2, 3, 4, 5, 6, 7]\n",
        "del numbers[1]  # delete the item with index 1\n",
        "print(numbers)\n",
        "\n",
        "numbers.pop(1)\t# remove the item with index 1\n",
        "print(numbers)  # pop = del\n"
      ]
    },
    {
      "cell_type": "markdown",
      "metadata": {
        "id": "MMUWjJvgLw3W"
      },
      "source": [
        "### 6.1.3  - List Comprehension\n",
        "Python supports **list comprehension**, which allows you to do some modification on all elements within a list, or filter out some elements from a list. Example is as follows:"
      ]
    },
    {
      "cell_type": "code",
      "execution_count": null,
      "metadata": {
        "id": "JmnAoh0CLw3W",
        "colab": {
          "base_uri": "https://localhost:8080/"
        },
        "outputId": "87c06ba9-ede3-4711-d47b-975410058627"
      },
      "outputs": [
        {
          "output_type": "stream",
          "name": "stdout",
          "text": [
            "mark_list =  [0.3, 0.4, 0.5, 0.6, 0.7]\n",
            "new_list =  [60.0, 70.0]\n"
          ]
        }
      ],
      "source": [
        "mark_list = sorted([0.4, 0.5, 0.7, 0.6, 0.3]) # sort the list ascendingly\n",
        "print(\"mark_list = \", mark_list)\n",
        "\n",
        "new_marks = []      #new list\n",
        "\n",
        "for m in mark_list:        #mark_list = [0.3,0.4,0.5,0.6,0.7]\n",
        "    if m > 0.5:\n",
        "        res = m * 100       #0.6*100 store into res\n",
        "        new_marks.append (res)    #append/add this res value into new_marks list\n",
        "\n",
        "# #or try in-line statement\n",
        "# new_marks = [m * 100 if m > 0.5 else m for m in mark_list]\n",
        "# new_marks.sort(reverse=True) # sort the list in descending order\n",
        "print(\"new_list = \",  new_marks)\n",
        "\n",
        "# =============================================================================\n",
        "# new_marks = [ m * 100 if m > 0.5 else m * 30 for m in mark_list ]\n",
        "# for m in mark_list:\n",
        "#     if m > 0.5:\n",
        "#         res = m * 100\n",
        "#         new_marks.append (res)\n",
        "#     else:\n",
        "#         res = m*30\n",
        "#         new_marks.append (res)"
      ]
    },
    {
      "cell_type": "markdown",
      "metadata": {
        "id": "6ZhSLef0Lw3X"
      },
      "source": [
        "## 6.2 - Tuple\n",
        "Tuples are similar to normal lists but they are **immutable**, i.e. you cannot add, delete or make assignments to items."
      ]
    },
    {
      "cell_type": "markdown",
      "metadata": {
        "id": "a5K2hvnQLw3X"
      },
      "source": [
        "### 6.2.1 - Creating a tuple"
      ]
    },
    {
      "cell_type": "code",
      "execution_count": null,
      "metadata": {
        "id": "3XwmLYJULw3X",
        "colab": {
          "base_uri": "https://localhost:8080/"
        },
        "outputId": "303e6431-7404-4633-f0ae-c7151ff30648"
      },
      "outputs": [
        {
          "output_type": "stream",
          "name": "stdout",
          "text": [
            "[3.12345]\n"
          ]
        }
      ],
      "source": [
        "coordinate = (3.12345, 101.23423)\n",
        "coordinate = list(coordinate)  # Convert to list\n",
        "coordinate.pop(1)              # Remove the item at index 1\n",
        "print(coordinate)              # Output: [3.12345]"
      ]
    },
    {
      "cell_type": "markdown",
      "metadata": {
        "id": "hpKAnn_VLw3X"
      },
      "source": [
        "### 6.2.2 - Immutable tuple\n",
        "Now try to change the coordinate data above and run the command. Observe the output."
      ]
    },
    {
      "cell_type": "code",
      "execution_count": null,
      "metadata": {
        "id": "-O--vi_SLw3Y",
        "colab": {
          "base_uri": "https://localhost:8080/",
          "height": 176
        },
        "outputId": "ed8447f5-2cb0-4889-c452-67ba240eb651"
      },
      "outputs": [
        {
          "output_type": "error",
          "ename": "TypeError",
          "evalue": "'tuple' object does not support item assignment",
          "traceback": [
            "\u001b[0;31m---------------------------------------------------------------------------\u001b[0m",
            "\u001b[0;31mTypeError\u001b[0m                                 Traceback (most recent call last)",
            "\u001b[0;32m<ipython-input-12-1330344328>\u001b[0m in \u001b[0;36m<cell line: 0>\u001b[0;34m()\u001b[0m\n\u001b[1;32m      1\u001b[0m \u001b[0mcoordinate\u001b[0m \u001b[0;34m=\u001b[0m \u001b[0;34m(\u001b[0m\u001b[0;36m3.12345\u001b[0m\u001b[0;34m,\u001b[0m \u001b[0;36m101.23423\u001b[0m\u001b[0;34m)\u001b[0m\u001b[0;34m\u001b[0m\u001b[0;34m\u001b[0m\u001b[0m\n\u001b[0;32m----> 2\u001b[0;31m \u001b[0mcoordinate\u001b[0m\u001b[0;34m[\u001b[0m\u001b[0;36m0\u001b[0m\u001b[0;34m]\u001b[0m \u001b[0;34m=\u001b[0m \u001b[0;36m0\u001b[0m\u001b[0;34m\u001b[0m\u001b[0;34m\u001b[0m\u001b[0m\n\u001b[0m\u001b[1;32m      3\u001b[0m \u001b[0mprint\u001b[0m\u001b[0;34m(\u001b[0m\u001b[0mcoordinate\u001b[0m\u001b[0;34m)\u001b[0m\u001b[0;34m\u001b[0m\u001b[0;34m\u001b[0m\u001b[0m\n",
            "\u001b[0;31mTypeError\u001b[0m: 'tuple' object does not support item assignment"
          ]
        }
      ],
      "source": [
        "coordinate = (3.12345, 101.23423)\n",
        "coordinate[0] = 0\n",
        "print(coordinate)"
      ]
    },
    {
      "cell_type": "markdown",
      "metadata": {
        "id": "SC6kNS0ILw3Y"
      },
      "source": [
        "### 6.2.3 - Unpack a tuple/list\n",
        "See the example below to unpack the coordinate into 2 elements, x and y (applicable to list and tuple)"
      ]
    },
    {
      "cell_type": "code",
      "execution_count": null,
      "metadata": {
        "id": "hsq8eatbLw3Y",
        "colab": {
          "base_uri": "https://localhost:8080/"
        },
        "outputId": "265277ee-e6f3-47e5-f9d3-0dfa7cc49805"
      },
      "outputs": [
        {
          "output_type": "stream",
          "name": "stdout",
          "text": [
            "x =  3.12345 y =  101.23423\n"
          ]
        }
      ],
      "source": [
        "#in C++\n",
        "coordinate = (3.12345, 101.23423)\n",
        "a = coordinate [0]\n",
        "b = coordinate [1]\n",
        "print ('x = ', a, 'y = ', b)"
      ]
    },
    {
      "cell_type": "code",
      "execution_count": null,
      "metadata": {
        "id": "n0fL04VrLw3Y",
        "colab": {
          "base_uri": "https://localhost:8080/"
        },
        "outputId": "b224693c-894e-4928-9dc3-03ba57407b91"
      },
      "outputs": [
        {
          "output_type": "stream",
          "name": "stdout",
          "text": [
            "x =  3.12345 y =  101.23423\n"
          ]
        }
      ],
      "source": [
        "#in python\n",
        "coordinate = (3.12345, 101.23423)\n",
        "x, y  = coordinate\n",
        "print('x = ', x, 'y = ', y)"
      ]
    },
    {
      "cell_type": "markdown",
      "metadata": {
        "id": "uxF_QNipLw3Y"
      },
      "source": [
        "## 6.3 - Set\n",
        "Sets are unordered.\n",
        "Set elements are unique. Duplicate elements are not allowed.\n",
        "A set itself may be modified, but the elements contained in the set must be of an immutable type."
      ]
    },
    {
      "cell_type": "markdown",
      "metadata": {
        "id": "AbyW2AkiLw3Z"
      },
      "source": [
        "### 6.3.1 - Creating sets"
      ]
    },
    {
      "cell_type": "markdown",
      "metadata": {
        "id": "QMfXrwy1Lw3Z"
      },
      "source": [
        "In Python, the syntax for defining a set is as follows:\n",
        "\n",
        "**my_set = {element1, element2, element3, ...}**\n",
        "\n",
        "In this syntax:<br>\n",
        "1. Curly braces {} are used to enclose the elements of the set.\n",
        "2. Each element is separated by a comma.\n",
        "3. Elements within a set can be of different data types, but they must be immutable objects. Examples of immutable objects include integers, floats, strings, and tuples."
      ]
    },
    {
      "cell_type": "code",
      "execution_count": null,
      "metadata": {
        "id": "pS1fXoP-Lw3Z",
        "colab": {
          "base_uri": "https://localhost:8080/"
        },
        "outputId": "a993446a-d437-4d4b-cabb-be1325a957ac"
      },
      "outputs": [
        {
          "output_type": "stream",
          "name": "stdout",
          "text": [
            "{1, 2, 3, 4, 5}\n",
            "{'banana', 'cherry', 'apple'}\n",
            "{1, (4, 5), 3.14, 'hello'}\n"
          ]
        }
      ],
      "source": [
        "# Set of integers\n",
        "my_set = {1, 2, 3, 4, 5}\n",
        "print (my_set)\n",
        "\n",
        "# Set of strings\n",
        "my_set = {\"apple\", \"banana\", \"cherry\"}\n",
        "print (my_set)\n",
        "\n",
        "# Set of mixed data types\n",
        "my_set = {1, \"hello\", 3.14, (4, 5)}\n",
        "print (my_set)"
      ]
    },
    {
      "cell_type": "markdown",
      "metadata": {
        "id": "n3ftGHusLw3Z"
      },
      "source": [
        "When we say that \"elements within a set must be immutable\" in Python, it means that the objects used as elements in a set must be of immutable data types. Immutable objects are those whose values cannot be changed after they are created. In contrast, mutable objects can have their values modified even after creation.\n",
        "\n",
        "In Python, examples of immutable objects include integers, floats, strings, and tuples. On the other hand, mutable objects include lists, dictionaries, and sets themselves.\n",
        "\n",
        "Sets in Python require their elements to be of immutable types to ensure the set's integrity and efficient operations such as membership checking and element uniqueness."
      ]
    },
    {
      "cell_type": "code",
      "execution_count": null,
      "metadata": {
        "id": "KiNJ_-MJLw3Z",
        "colab": {
          "base_uri": "https://localhost:8080/",
          "height": 211
        },
        "outputId": "649b2f38-a239-4107-9fd0-b57f5074bdd6"
      },
      "outputs": [
        {
          "output_type": "stream",
          "name": "stdout",
          "text": [
            "{1, (4, 5), 2, 'hello'}\n"
          ]
        },
        {
          "output_type": "error",
          "ename": "TypeError",
          "evalue": "unhashable type: 'list'",
          "traceback": [
            "\u001b[0;31m---------------------------------------------------------------------------\u001b[0m",
            "\u001b[0;31mTypeError\u001b[0m                                 Traceback (most recent call last)",
            "\u001b[0;32m<ipython-input-16-3450966964>\u001b[0m in \u001b[0;36m<cell line: 0>\u001b[0;34m()\u001b[0m\n\u001b[1;32m      4\u001b[0m \u001b[0;34m\u001b[0m\u001b[0m\n\u001b[1;32m      5\u001b[0m \u001b[0;31m# Invalid set with a mutable element\u001b[0m\u001b[0;34m\u001b[0m\u001b[0;34m\u001b[0m\u001b[0m\n\u001b[0;32m----> 6\u001b[0;31m \u001b[0mmy_set\u001b[0m \u001b[0;34m=\u001b[0m \u001b[0;34m{\u001b[0m\u001b[0;36m1\u001b[0m\u001b[0;34m,\u001b[0m \u001b[0;36m2\u001b[0m\u001b[0;34m,\u001b[0m \u001b[0;34m[\u001b[0m\u001b[0;36m3\u001b[0m\u001b[0;34m,\u001b[0m \u001b[0;36m4\u001b[0m\u001b[0;34m]\u001b[0m\u001b[0;34m}\u001b[0m  \u001b[0;31m# Lists are mutable\u001b[0m\u001b[0;34m\u001b[0m\u001b[0;34m\u001b[0m\u001b[0m\n\u001b[0m\u001b[1;32m      7\u001b[0m \u001b[0mprint\u001b[0m\u001b[0;34m(\u001b[0m\u001b[0mmy_set\u001b[0m\u001b[0;34m)\u001b[0m\u001b[0;34m\u001b[0m\u001b[0;34m\u001b[0m\u001b[0m\n",
            "\u001b[0;31mTypeError\u001b[0m: unhashable type: 'list'"
          ]
        }
      ],
      "source": [
        "# Valid set with immutable elements\n",
        "my_set = {1, 2, \"hello\", (4, 5)}\n",
        "print(my_set)\n",
        "\n",
        "# Invalid set with a mutable element\n",
        "my_set = {1, 2, [3, 4]}  # Lists are mutable\n",
        "print(my_set)"
      ]
    },
    {
      "cell_type": "markdown",
      "metadata": {
        "id": "2IguYqmLLw3Z"
      },
      "source": [
        "**Alternative:**\n",
        "\n",
        "Here's the syntax for creating a set using the set() constructor:\n",
        "\n",
        "**my_set = set(iterable)**\n",
        "\n",
        "In this syntax:<br>\n",
        "The iterable parameter is optional. It can be any iterable object, such as a list, tuple, or string, from which the set is created.\n",
        "If no iterable is provided, an empty set is created."
      ]
    },
    {
      "cell_type": "code",
      "execution_count": null,
      "metadata": {
        "id": "uIfUjKjiLw3a",
        "colab": {
          "base_uri": "https://localhost:8080/"
        },
        "outputId": "d1402470-daa4-49f9-f92c-4e2fc8dacdb7"
      },
      "outputs": [
        {
          "output_type": "stream",
          "name": "stdout",
          "text": [
            "{1, 2, 3, 4, 5}\n",
            "{1, 2, 3, 4, 5}\n",
            "{'e', 'h', 'l', 'o'}\n"
          ]
        }
      ],
      "source": [
        "# Creating a set from a list\n",
        "my_set = set([1, 2, 3, 4, 5])\n",
        "print (my_set)\n",
        "\n",
        "# Creating a set from a tuple\n",
        "my_set = set((1, 2, 3, 4, 5))\n",
        "print (my_set)\n",
        "\n",
        "# Creating a set from a string\n",
        "my_set = set(\"hello\")\n",
        "print (my_set)"
      ]
    },
    {
      "cell_type": "markdown",
      "metadata": {
        "id": "pIFDZKr_Lw3a"
      },
      "source": [
        "### 6.3.2 - Set is unordered\n",
        "you cannot access set member through index, as set is an unordered collection. Try to run the command below and observe the output."
      ]
    },
    {
      "cell_type": "code",
      "execution_count": null,
      "metadata": {
        "id": "jyKkB0Q1Lw3a",
        "colab": {
          "base_uri": "https://localhost:8080/",
          "height": 141
        },
        "outputId": "3db1f8ce-efa0-4e75-ca8c-9e6a06ee4423"
      },
      "outputs": [
        {
          "output_type": "error",
          "ename": "TypeError",
          "evalue": "'set' object is not subscriptable",
          "traceback": [
            "\u001b[0;31m---------------------------------------------------------------------------\u001b[0m",
            "\u001b[0;31mTypeError\u001b[0m                                 Traceback (most recent call last)",
            "\u001b[0;32m<ipython-input-19-1349405229>\u001b[0m in \u001b[0;36m<cell line: 0>\u001b[0;34m()\u001b[0m\n\u001b[0;32m----> 1\u001b[0;31m \u001b[0mprint\u001b[0m\u001b[0;34m(\u001b[0m\u001b[0mmy_set\u001b[0m\u001b[0;34m[\u001b[0m\u001b[0;36m0\u001b[0m\u001b[0;34m]\u001b[0m\u001b[0;34m)\u001b[0m\u001b[0;34m\u001b[0m\u001b[0;34m\u001b[0m\u001b[0m\n\u001b[0m",
            "\u001b[0;31mTypeError\u001b[0m: 'set' object is not subscriptable"
          ]
        }
      ],
      "source": [
        "print(my_set[0])"
      ]
    },
    {
      "cell_type": "markdown",
      "metadata": {
        "id": "9jKspz6NLw3a"
      },
      "source": [
        "### 6.3.3 -  Add/remove a new element to a set\n",
        "Use **add()** or **remove** to add/remove a new element to a set, e.g"
      ]
    },
    {
      "cell_type": "code",
      "execution_count": null,
      "metadata": {
        "id": "fbc7vbq0Lw3a",
        "colab": {
          "base_uri": "https://localhost:8080/"
        },
        "outputId": "1adc8602-3271-4307-f5da-1b8fc99eb72d"
      },
      "outputs": [
        {
          "output_type": "stream",
          "name": "stdout",
          "text": [
            "{1, 2, 3, 4, 5, 6, 7, 8}\n",
            "s= {0, 1, 2, 3, 4, 5, 7, 8}\n"
          ]
        }
      ],
      "source": [
        "numbers = set ([1, 2, 3, 4, 5, 6, 7])\n",
        "numbers.add(8) \t# append a new value to last\n",
        "print(numbers)\n",
        "\n",
        "numbers.add(0)\n",
        "numbers.remove(6)\n",
        "print('s=',numbers)"
      ]
    },
    {
      "cell_type": "markdown",
      "metadata": {
        "id": "PSdSE_B1Lw3a"
      },
      "source": [
        "### 6.3.4. - Set Manipulation\n",
        "you can check the union, intersection, difference and symmetric difference of 2 sets, etc., as follow"
      ]
    },
    {
      "cell_type": "code",
      "execution_count": null,
      "metadata": {
        "id": "eBy52yzZc5x5",
        "outputId": "050b6f10-a2f0-4cb1-fd64-212ea11d55b6",
        "colab": {
          "base_uri": "https://localhost:8080/",
          "height": 317
        }
      },
      "outputs": [
        {
          "output_type": "execute_result",
          "data": {
            "image/png": "[encoded data removed]",
            "text/plain": [
              "<IPython.core.display.Image object>"
            ]
          },
          "metadata": {
            "image/png": {
              "width": 500,
              "height": 300
            }
          },
          "execution_count": 27
        }
      ],
      "source": [
        "from IPython.display import Image\n",
        "Image(filename='/manipulation.png', width=500, height=300)"
      ]
    },
    {
      "cell_type": "code",
      "execution_count": null,
      "metadata": {
        "id": "7OFfi48pLw3a",
        "scrolled": true,
        "colab": {
          "base_uri": "https://localhost:8080/"
        },
        "outputId": "c65f0c8e-453e-4af3-f1e9-870d3f94fa34"
      },
      "outputs": [
        {
          "output_type": "stream",
          "name": "stdout",
          "text": [
            "dsa | web =  {'Eric', 'John', 'Jill', 'Jake', 'Tom', 'Mac'}\n",
            "dsa | web =  {'Eric', 'John', 'Jill', 'Jake', 'Tom', 'Mac'}\n",
            "dsa & web =  {'Jake', 'Tom'}\n",
            "dsa & web =  {'Jake', 'Tom'}\n",
            "dsa & ai =  set()\n",
            "dsa & ai =  set()\n",
            "dsa - web =  {'Eric', 'John'}\n",
            "dsa - web =  {'Eric', 'John'}\n",
            "dsa ^ web =  {'Eric', 'John', 'Jill', 'Mac'}\n",
            "dsa ^ web =  {'Eric', 'John', 'Jill', 'Mac'}\n",
            "No one registered for both of DSA and AI\n"
          ]
        }
      ],
      "source": [
        "dsa = set([\"Tom\", \"Jake\", \"John\", \"Eric\",\"Tom\"])\n",
        "web = set([\"Tom\", \"Jake\", \"Jill\", \"Mac\"])\n",
        "ai = set([\"William\", \"Andy\"])\n",
        "\n",
        "#Union of two sets: Find all people have registered either dsa or web\n",
        "print('dsa | web = ', dsa.union(web))\n",
        "print('dsa | web = ', dsa | web)\n",
        "\n",
        "#Intersection of two sets: People have registered for both dsa and web\n",
        "print('dsa & web = ', dsa.intersection(web))\n",
        "print('dsa & web = ', dsa & web)\n",
        "\n",
        "#Intersection of two sets: People have registered for both dsa and ai\n",
        "print('dsa & ai = ', dsa.intersection(ai))\n",
        "print('dsa & ai = ', dsa & ai)\n",
        "\n",
        "#Difference of two sets: People have registered for dsa but not for web\n",
        "print('dsa - web = ', dsa.difference(web))\n",
        "print('dsa - web = ', dsa - web)\n",
        "\n",
        "#Symmetric Difference between two sets: People that attend only dsa or web\n",
        "print('dsa ^ web = ', dsa.symmetric_difference(web))\n",
        "print('dsa ^ web = ', dsa ^ web)   #return value\n",
        "\n",
        "#Check for disjoint or superset  #chekcing purpose = True/False\n",
        "if dsa.isdisjoint(ai):  # no elements in common.\n",
        "    print(\"No one registered for both of DSA and AI\")\n",
        "if ai.issubset(dsa): #all elements of one set are contained in another set.\n",
        "    print(\"All AI students already registered for DSA\")\n",
        "if dsa.issuperset(ai): #one set contains all elements of another set\n",
        "    print(\"All AI students already registered for DSA\")\n"
      ]
    },
    {
      "cell_type": "markdown",
      "metadata": {
        "id": "zJfcSPk2Lw3b"
      },
      "source": [
        "## 6.4 - Dictionary"
      ]
    },
    {
      "cell_type": "markdown",
      "metadata": {
        "id": "FYj2G09gLw3b"
      },
      "source": [
        "__1. Dictionary:__ Dictionaries are a collection of items in the form of a (key, value) pair. Each item is identified by a key. Unlike lists, dictionaries are unordered sets, which are accessed via keys but not via their position.\n",
        "\n",
        "Here's the basic syntax for creating a dictionary:<br>\n",
        "**my_dict = {key1: value1, key2: value2, key3: value3, ...}**\n",
        "\n",
        "In this syntax:<br>\n",
        "1. Curly braces {} are used to enclose the key-value pairs.<br>\n",
        "2. Each key-value pair is separated by a colon : character.<br>\n",
        "3. Each key is unique within the dictionary and must be an immutable object, such as a string or a number.<br>\n",
        "4. Values can be of any data type and can be mutable or immutable.<br>\n",
        "\n",
        "In Python, examples of immutable objects include integers, floats, strings, and tuples. On the other hand, mutable objects include lists, dictionaries, and sets themselves."
      ]
    },
    {
      "cell_type": "code",
      "execution_count": null,
      "metadata": {
        "id": "s_QxnBvDLw3b",
        "colab": {
          "base_uri": "https://localhost:8080/"
        },
        "outputId": "49a181a0-2060-4600-9a49-cc802a38d80a"
      },
      "outputs": [
        {
          "output_type": "stream",
          "name": "stdout",
          "text": [
            "{'name': ['James', 'Bond'], 'age': 20, 'level': 'BSc', 'programme': 'SF', 'year': 2, 'registration_id': '16WAD1234', 'tel': '0110101010'}\n",
            "['James', 'Bond']\n"
          ]
        }
      ],
      "source": [
        "# First way to declare a dictionary\n",
        "student1 = {'name':['James','Bond'],'age':20,'level':'BSc', 'programme':'SF','year':2,'registration_id':'16WAD1234',\n",
        "           'tel':'0110101010'}\n",
        "print(student1)\n",
        "\n",
        "name = student1['name']\n",
        "print (name)\n"
      ]
    },
    {
      "cell_type": "markdown",
      "metadata": {
        "id": "yEcXFu4nLw3b"
      },
      "source": [
        "There are a few alternative ways to declare a dictionary in Python. Here are some of the options:<br>\n",
        "1. Using the dict() constructor:<br>\n",
        "    **my_dict = dict()<br>**\n",
        "    This creates an empty dictionary.<br>\n",
        "2. Using key-value pairs as arguments to the dict() constructor:<br>\n",
        "    **my_dict = dict(key1=value1, key2=value2, key3=value3)<br>**\n",
        "    This syntax allows you to directly specify the key-value pairs within the dict() constructor.<br>\n",
        "3. Using a sequence of key-value tuples:<br>\n",
        "    **my_dict = dict([(key1, value1), (key2, value2), (key3, value3)])<br>**\n",
        "    This syntax creates a dictionary from a list of tuples, where each tuple contains a key-value pair.<br>\n",
        "4. Using dictionary comprehension:<br>\n",
        "    **my_dict = {key: value for key, value in iterable}<br>**\n",
        "    This syntax allows you to create a dictionary by iterating over an iterable (such as a list or tuple) and defining key-value pairs based on the elements of the iterable.<br>"
      ]
    },
    {
      "cell_type": "code",
      "execution_count": null,
      "metadata": {
        "id": "leygx81LLw3b",
        "colab": {
          "base_uri": "https://localhost:8080/"
        },
        "outputId": "22be95c9-d6c9-42a0-eee6-f4f448438e3a"
      },
      "outputs": [
        {
          "output_type": "stream",
          "name": "stdout",
          "text": [
            "{}\n",
            "{'name': 'Alice', 'age': 25, 'city': 'New York'}\n",
            "{'apple': 5, 'banana': 3, 'orange': 8}\n",
            "{1: 1, 2: 4, 3: 9, 4: 16}\n"
          ]
        }
      ],
      "source": [
        "# Empty dictionary using dict()\n",
        "empty_dict = dict()\n",
        "\n",
        "# Dictionary with key-value pairs using dict()\n",
        "person_dict = dict(name=\"Alice\", age=25, city=\"New York\")\n",
        "\n",
        "# Dictionary from a sequence of key-value tuples\n",
        "fruit_dict = dict([(\"apple\", 5), (\"banana\", 3), (\"orange\", 8)])\n",
        "\n",
        "# Dictionary comprehension\n",
        "numbers_dict = {x: x**2 for x in range(1, 5)}\n",
        "\n",
        "print (empty_dict)\n",
        "print (person_dict)\n",
        "print (fruit_dict)\n",
        "print (numbers_dict)"
      ]
    },
    {
      "cell_type": "markdown",
      "metadata": {
        "id": "MmIlgiCiLw3b"
      },
      "source": [
        "__2. Accessing an element of dictionary:__ You can use assigned keys to retrieve a value from a dictionary. With .items(), you can also create a list of binary tuples of the items in the dictionary."
      ]
    },
    {
      "cell_type": "code",
      "execution_count": null,
      "metadata": {
        "id": "lkVfRVLKLw3b",
        "colab": {
          "base_uri": "https://localhost:8080/"
        },
        "outputId": "ba101d6b-0ea7-4416-ec01-0c85c2c0c0f6"
      },
      "outputs": [
        {
          "output_type": "stream",
          "name": "stdout",
          "text": [
            "{'name': ['James', 'Bond'], 'age': 20, 'level': 'BSc', 'programme': 'SF', 'year': 2, 'registration_id': '16WAD1234', 'tel': '0110101010'}\n",
            "Name: ['James', 'Bond']\n",
            "Registration ID: 16WAD1234\n",
            "Programme RSF2\n"
          ]
        }
      ],
      "source": [
        "#retrieving individual element based on a key\n",
        "print (student1)\n",
        "print('Name:', student1['name'])\n",
        "print('Registration ID:', student1['registration_id'])\n",
        "\n",
        "if student1['level'] == 'BSc':\n",
        "  #print('Programme R' + student1['programme'] + student1['year'])\n",
        "  print('Programme R' + student1['programme'] + str(student1['year']))\n"
      ]
    },
    {
      "cell_type": "markdown",
      "metadata": {
        "id": "s5j-NSISLw3f"
      },
      "source": [
        "__3. Traversing a dictionary:__ You can traverse through a dictionary by using a for loop. Remember that with .items(), you would have a list of binary tuples, hence you can unpack them into 2 elements - attribute and value"
      ]
    },
    {
      "cell_type": "code",
      "execution_count": null,
      "metadata": {
        "id": "hstXRKaxLw3f",
        "colab": {
          "base_uri": "https://localhost:8080/"
        },
        "outputId": "c91ec9f4-a64c-41fd-c2d5-5da0da4887b4"
      },
      "outputs": [
        {
          "output_type": "stream",
          "name": "stdout",
          "text": [
            "name : ['James', 'Bond']\n",
            "age : 20\n",
            "level : BSc\n",
            "programme : SF\n",
            "year : 2\n",
            "registration_id : 16WAD1234\n",
            "tel : 0110101010\n"
          ]
        }
      ],
      "source": [
        "for key,value in student1.items():\n",
        "    print(key, \":\", value)\n",
        "\n",
        "# for attribute, value in student1.items():\n",
        "#     print (attribute, ':\\t', value)"
      ]
    },
    {
      "cell_type": "markdown",
      "metadata": {
        "id": "ihTS0S0LLw3f"
      },
      "source": [
        "Here's a summary table comparing the characteristics of lists, tuples, sets, and dictionaries in Python:"
      ]
    },
    {
      "cell_type": "code",
      "execution_count": null,
      "metadata": {
        "id": "0CTBnUgYLw3f",
        "outputId": "59be704d-fe1b-40b7-8e34-f3f8d19e11c4",
        "colab": {
          "base_uri": "https://localhost:8080/",
          "height": 317
        }
      },
      "outputs": [
        {
          "output_type": "execute_result",
          "data": {
            "image/png": "[encoded data removed]",
            "text/plain": [
              "<IPython.core.display.Image object>"
            ]
          },
          "metadata": {
            "image/png": {
              "width": 500,
              "height": 300
            }
          },
          "execution_count": 54
        }
      ],
      "source": [
        "from IPython.display import Image\n",
        "Image(filename='summry.png', width=500, height=300)\n",
        "\n",
        "#or use markdown ![summry.png](attachment:summry.png)"
      ]
    },
    {
      "cell_type": "markdown",
      "metadata": {
        "id": "tdfbTYO-Lw3f"
      },
      "source": [
        "**Mutable:** Indicates whether the elements or the structure of the collection can be modified after creation.<br>\n",
        "**Ordered:** Specifies if the elements in the collection have a defined order.<br>\n",
        "**Allows Duplicates:** Indicates whether the collection allows duplicate elements.<br>\n",
        "**Key-Value Pairs:** Specifies whether the collection stores elements as key-value pairs.<br>"
      ]
    },
    {
      "cell_type": "markdown",
      "metadata": {
        "id": "9x4TQQoQWkjK"
      },
      "source": [
        "# Exercise"
      ]
    },
    {
      "cell_type": "code",
      "execution_count": null,
      "metadata": {
        "colab": {
          "base_uri": "https://localhost:8080/"
        },
        "id": "DaQPufzmWkjK",
        "outputId": "0b515658-63d5-4b51-d12c-2d2311690fdf"
      },
      "outputs": [
        {
          "output_type": "stream",
          "name": "stdout",
          "text": [
            "Enter value 1: 34\n",
            "Enter value 2: 52\n",
            "Enter value 3: 54\n",
            "Enter value 4: 23\n",
            "Enter value 5: 4\n",
            "Enter value 6: 1\n",
            "Enter value 7: 5\n",
            "Enter value 8: 75\n",
            "Enter value 9: 24\n",
            "Enter value 10: 11\n",
            "You entered: ['34', '52', '54', '23', '4', '1', '5', '75', '24', '11']\n"
          ]
        },
        {
          "output_type": "execute_result",
          "data": {
            "text/plain": [
              "4"
            ]
          },
          "metadata": {},
          "execution_count": 60
        }
      ],
      "source": [
        "#Write a Python script that utilizes a for loop to prompt the user for 10 values and appends each value into a list.\n",
        "# Initialize an empty list\n",
        "values = []\n",
        "\n",
        "# Loop 10 times\n",
        "for i in range(10):\n",
        "    user_input = input(f\"Enter value {i+1}: \")\n",
        "    values.append(user_input)\n",
        "\n",
        "# Print the final list\n",
        "print(\"You entered:\", values)\n",
        "4"
      ]
    },
    {
      "cell_type": "code",
      "execution_count": null,
      "metadata": {
        "colab": {
          "base_uri": "https://localhost:8080/"
        },
        "id": "wTbgmF2AWkjK",
        "outputId": "0a123ada-19fa-4e15-f07e-49dfe1c9c75b"
      },
      "outputs": [
        {
          "output_type": "stream",
          "name": "stdout",
          "text": [
            "Updated list: ['34', '52', '54', '23', '4', '75', '24', '11']\n"
          ]
        }
      ],
      "source": [
        "# Remove the value index 5 and 6\n",
        "del values[6]  # Removes the element originally at index 6\n",
        "del values[5]  # Removes the element originally at index 5\n",
        "\n",
        "print(\"Updated list:\", values)"
      ]
    },
    {
      "cell_type": "code",
      "execution_count": null,
      "metadata": {
        "colab": {
          "base_uri": "https://localhost:8080/"
        },
        "id": "B7TseFXsWkjK",
        "outputId": "0c75eb59-306c-4b8a-8d8f-af3c6b227075"
      },
      "outputs": [
        {
          "output_type": "stream",
          "name": "stdout",
          "text": [
            "Transformed list: [68, 520, 540, 46, 8, 750, 48, 22]\n"
          ]
        }
      ],
      "source": [
        "# Transform the value in the list above by multiplying the value more than 50 by 10, else multyplying the value by 2\n",
        "\n",
        "# Apply conditional multiplication\n",
        "\n",
        "transformed_values = []\n",
        "\n",
        "for val in values:\n",
        "    num = int(val)\n",
        "    if num > 50:\n",
        "        transformed_values.append(num * 10)\n",
        "    else:\n",
        "        transformed_values.append(num * 2)\n",
        "\n",
        "print(\"Transformed list:\", transformed_values)\n",
        "\n"
      ]
    },
    {
      "cell_type": "code",
      "execution_count": null,
      "metadata": {
        "colab": {
          "base_uri": "https://localhost:8080/"
        },
        "id": "iFUeBSocWkjK",
        "outputId": "c6fad33e-d9b3-4aca-82fb-00b3cb04e53b"
      },
      "outputs": [
        {
          "output_type": "stream",
          "name": "stdout",
          "text": [
            "Transformed list: [68, 520, 540, 46, 8, 750, 48, 22]\n"
          ]
        }
      ],
      "source": [
        "# Modifying the code above using in-line if statement\n",
        "transformed_values = [\n",
        "    int(val) * 10 if int(val) > 50 else int(val) * 2\n",
        "    for val in values\n",
        "]\n",
        "\n",
        "print(\"Transformed list:\", transformed_values)"
      ]
    },
    {
      "cell_type": "markdown",
      "metadata": {
        "id": "2pyqwz5NWkjK"
      },
      "source": [
        "## Try Exercise (Practical 1 Getting Started with Python (Part 1 and Part 2))"
      ]
    },
    {
      "cell_type": "code",
      "execution_count": null,
      "metadata": {
        "colab": {
          "base_uri": "https://localhost:8080/"
        },
        "id": "T-7yv-s_WkjK",
        "outputId": "2dd68fba-4749-41b1-c1f5-5bfa8bb93d9c"
      },
      "outputs": [
        {
          "output_type": "stream",
          "name": "stdout",
          "text": [
            "The volume of the cylinder is: 785.3981633974483\n"
          ]
        }
      ],
      "source": [
        "#Question 1\n",
        "import math\n",
        "\n",
        "def volume(r, h):\n",
        "    V = math.pi * r**2 * h\n",
        "    print(\"The volume of the cylinder is:\", V)\n",
        "\n",
        "# Example usage:\n",
        "volume(5, 10)"
      ]
    },
    {
      "cell_type": "code",
      "execution_count": null,
      "metadata": {
        "colab": {
          "base_uri": "https://localhost:8080/"
        },
        "id": "xVW3vHVzWkjK",
        "outputId": "9fc27167-778c-4c46-a845-70aeb42b2501"
      },
      "outputs": [
        {
          "output_type": "stream",
          "name": "stdout",
          "text": [
            "860.1632100393301\n"
          ]
        }
      ],
      "source": [
        "#Question 2\n",
        "import time\n",
        "import math\n",
        "\n",
        "def simulated_mouse(start_x,start_y,end_x,end_y):\n",
        "  start_time=time.time()\n",
        "  distance=math.sqrt((end_x-start_x)**2+(end_y-start_y)**2)\n",
        "  time.sleep(1)\n",
        "  end_time=time.time()\n",
        "  elapsed_time=end_time-start_time\n",
        "  speed=distance/elapsed_time\n",
        "  return speed\n",
        "\n",
        "start_pos=(100,500)\n",
        "end_pos=(800,1000)\n",
        "speed=(simulated_mouse(start_pos[0],start_pos[1],end_pos[0],end_pos[1]))\n",
        "print(speed)\n"
      ]
    },
    {
      "cell_type": "code",
      "execution_count": null,
      "metadata": {
        "colab": {
          "base_uri": "https://localhost:8080/"
        },
        "id": "vdJ4FgG5WkjK",
        "outputId": "3b14c904-e104-4f7b-bd53-5fc45b875f23"
      },
      "outputs": [
        {
          "output_type": "stream",
          "name": "stdout",
          "text": [
            "Average Speed: 693.6324631064508 pixels/second\n"
          ]
        }
      ],
      "source": [
        "#Question 3\n",
        "import time\n",
        "import math\n",
        "import random\n",
        "\n",
        "def generate_coordinates(num_pairs=10):\n",
        "    \"\"\"Generates a list of tuples containing random start and end coordinates.\"\"\"\n",
        "    coordinatesList = []\n",
        "    for _ in range(num_pairs):\n",
        "        start_x = random.randint(0, 1920)  # Assuming screen width of 1920 pixels\n",
        "        start_y = random.randint(0, 1080)  # Assuming screen height of 1080 pixels\n",
        "        end_x = random.randint(0, 1920)\n",
        "        end_y = random.randint(0, 1080)\n",
        "        coordinatesList.append(((start_x, start_y), (end_x, end_y)))\n",
        "        time.sleep(1)  # Delay for 1 second\n",
        "    return coordinatesList\n",
        "\n",
        "def calculate_distance(start_x, start_y, end_x, end_y):\n",
        "    \"\"\"Calculates the distance between two points.\"\"\"\n",
        "    return math.sqrt((end_x - start_x) ** 2 + (end_y - start_y) ** 2)\n",
        "\n",
        "def calculateMouseSpeed(coordinatesList, duration):\n",
        "    \"\"\"Calculates the estimated average speed of mouse movements.\"\"\"\n",
        "    total_distance = sum(calculate_distance(start[0], start[1], end[0], end[1]) for start, end in coordinatesList)\n",
        "    average_speed = total_distance / duration\n",
        "    return average_speed\n",
        "\n",
        "\n",
        "# Main program\n",
        "start_time = time.time()\n",
        "\n",
        "coordinatesList = generate_coordinates(10)  # Generate 10 pairs of coordinates\n",
        "\n",
        "end_time = time.time()\n",
        "total_duration = end_time - start_time\n",
        "\n",
        "average_speed = calculateMouseSpeed(coordinatesList, total_duration)\n",
        "print(f\"Average Speed: {average_speed} pixels/second\")"
      ]
    },
    {
      "cell_type": "code",
      "execution_count": null,
      "metadata": {
        "colab": {
          "base_uri": "https://localhost:8080/",
          "height": 425
        },
        "id": "WrFu5KKqWkjL",
        "outputId": "9494b4b7-823b-469f-bc14-c5bb66e98b9e"
      },
      "outputs": [
        {
          "output_type": "stream",
          "name": "stdout",
          "text": [
            "Welcome to Mastermind!\n",
            "Available colors: ['red', 'green', 'blue', 'yellow', 'orange', 'purple']\n",
            "Guess the secret code of 4 colors.\n",
            "You have 10 attempts.\n",
            "\n"
          ]
        },
        {
          "output_type": "error",
          "ename": "KeyboardInterrupt",
          "evalue": "Interrupted by user",
          "traceback": [
            "\u001b[0;31m---------------------------------------------------------------------------\u001b[0m",
            "\u001b[0;31mKeyboardInterrupt\u001b[0m                         Traceback (most recent call last)",
            "\u001b[0;32m<ipython-input-70-1692593315>\u001b[0m in \u001b[0;36m<cell line: 0>\u001b[0;34m()\u001b[0m\n\u001b[1;32m     45\u001b[0m     \u001b[0mprint\u001b[0m\u001b[0;34m(\u001b[0m\u001b[0;34m\"The secret code was:\"\u001b[0m\u001b[0;34m,\u001b[0m \u001b[0msecret_code\u001b[0m\u001b[0;34m)\u001b[0m\u001b[0;34m\u001b[0m\u001b[0;34m\u001b[0m\u001b[0m\n\u001b[1;32m     46\u001b[0m \u001b[0;34m\u001b[0m\u001b[0m\n\u001b[0;32m---> 47\u001b[0;31m \u001b[0mplay_game\u001b[0m\u001b[0;34m(\u001b[0m\u001b[0;34m)\u001b[0m  \u001b[0;31m#call main function\u001b[0m\u001b[0;34m\u001b[0m\u001b[0;34m\u001b[0m\u001b[0m\n\u001b[0m",
            "\u001b[0;32m<ipython-input-70-1692593315>\u001b[0m in \u001b[0;36mplay_game\u001b[0;34m()\u001b[0m\n\u001b[1;32m     30\u001b[0m     \u001b[0mattempts\u001b[0m \u001b[0;34m=\u001b[0m \u001b[0;36m0\u001b[0m         \u001b[0;31m#reset variable to 0\u001b[0m\u001b[0;34m\u001b[0m\u001b[0;34m\u001b[0m\u001b[0m\n\u001b[1;32m     31\u001b[0m     \u001b[0;32mwhile\u001b[0m \u001b[0mattempts\u001b[0m \u001b[0;34m<\u001b[0m \u001b[0mattempts_limit\u001b[0m\u001b[0;34m:\u001b[0m\u001b[0;34m\u001b[0m\u001b[0;34m\u001b[0m\u001b[0m\n\u001b[0;32m---> 32\u001b[0;31m         \u001b[0mguess\u001b[0m \u001b[0;34m=\u001b[0m \u001b[0mget_player_guess\u001b[0m\u001b[0;34m(\u001b[0m\u001b[0;34m)\u001b[0m   \u001b[0;31m#call function to get user input\u001b[0m\u001b[0;34m\u001b[0m\u001b[0;34m\u001b[0m\u001b[0m\n\u001b[0m\u001b[1;32m     33\u001b[0m         \u001b[0mexact_matches\u001b[0m\u001b[0;34m,\u001b[0m \u001b[0mcolor_matches\u001b[0m \u001b[0;34m=\u001b[0m \u001b[0mget_feedback\u001b[0m\u001b[0;34m(\u001b[0m\u001b[0msecret_code\u001b[0m\u001b[0;34m,\u001b[0m \u001b[0mguess\u001b[0m\u001b[0;34m)\u001b[0m   \u001b[0;31m#call function to get result after comparison\u001b[0m\u001b[0;34m\u001b[0m\u001b[0;34m\u001b[0m\u001b[0m\n\u001b[1;32m     34\u001b[0m         \u001b[0mattempts\u001b[0m \u001b[0;34m+=\u001b[0m \u001b[0;36m1\u001b[0m\u001b[0;34m\u001b[0m\u001b[0;34m\u001b[0m\u001b[0m\n",
            "\u001b[0;32m<ipython-input-70-1692593315>\u001b[0m in \u001b[0;36mget_player_guess\u001b[0;34m()\u001b[0m\n\u001b[1;32m     10\u001b[0m \u001b[0;32mdef\u001b[0m \u001b[0mget_player_guess\u001b[0m\u001b[0;34m(\u001b[0m\u001b[0;34m)\u001b[0m\u001b[0;34m:\u001b[0m                                             \u001b[0;31m#function for player to guess 4 colours\u001b[0m\u001b[0;34m\u001b[0m\u001b[0;34m\u001b[0m\u001b[0m\n\u001b[1;32m     11\u001b[0m     \u001b[0;32mwhile\u001b[0m \u001b[0;32mTrue\u001b[0m\u001b[0;34m:\u001b[0m\u001b[0;34m\u001b[0m\u001b[0;34m\u001b[0m\u001b[0m\n\u001b[0;32m---> 12\u001b[0;31m         \u001b[0mguess\u001b[0m \u001b[0;34m=\u001b[0m \u001b[0minput\u001b[0m\u001b[0;34m(\u001b[0m\u001b[0;34m\"Enter your guess (comma-separated colors): \"\u001b[0m\u001b[0;34m)\u001b[0m\u001b[0;34m.\u001b[0m\u001b[0mstrip\u001b[0m\u001b[0;34m(\u001b[0m\u001b[0;34m)\u001b[0m\u001b[0;34m.\u001b[0m\u001b[0mlower\u001b[0m\u001b[0;34m(\u001b[0m\u001b[0;34m)\u001b[0m\u001b[0;34m.\u001b[0m\u001b[0msplit\u001b[0m\u001b[0;34m(\u001b[0m\u001b[0;34m\",\"\u001b[0m\u001b[0;34m)\u001b[0m\u001b[0;34m\u001b[0m\u001b[0;34m\u001b[0m\u001b[0m\n\u001b[0m\u001b[1;32m     13\u001b[0m         \u001b[0;32mif\u001b[0m \u001b[0mlen\u001b[0m\u001b[0;34m(\u001b[0m\u001b[0mguess\u001b[0m\u001b[0;34m)\u001b[0m \u001b[0;34m==\u001b[0m \u001b[0;36m4\u001b[0m \u001b[0;32mand\u001b[0m \u001b[0mall\u001b[0m\u001b[0;34m(\u001b[0m\u001b[0mcolor\u001b[0m \u001b[0;32min\u001b[0m \u001b[0mcolors\u001b[0m \u001b[0;32mfor\u001b[0m \u001b[0mcolor\u001b[0m \u001b[0;32min\u001b[0m \u001b[0mguess\u001b[0m\u001b[0;34m)\u001b[0m\u001b[0;34m:\u001b[0m \u001b[0;31m#input validation to check if player input only 4 colours & within default colour\u001b[0m\u001b[0;34m\u001b[0m\u001b[0;34m\u001b[0m\u001b[0m\n\u001b[1;32m     14\u001b[0m             \u001b[0;32mreturn\u001b[0m \u001b[0mguess\u001b[0m\u001b[0;34m\u001b[0m\u001b[0;34m\u001b[0m\u001b[0m\n",
            "\u001b[0;32m/usr/local/lib/python3.11/dist-packages/ipykernel/kernelbase.py\u001b[0m in \u001b[0;36mraw_input\u001b[0;34m(self, prompt)\u001b[0m\n\u001b[1;32m   1175\u001b[0m                 \u001b[0;34m\"raw_input was called, but this frontend does not support input requests.\"\u001b[0m\u001b[0;34m\u001b[0m\u001b[0;34m\u001b[0m\u001b[0m\n\u001b[1;32m   1176\u001b[0m             )\n\u001b[0;32m-> 1177\u001b[0;31m         return self._input_request(\n\u001b[0m\u001b[1;32m   1178\u001b[0m             \u001b[0mstr\u001b[0m\u001b[0;34m(\u001b[0m\u001b[0mprompt\u001b[0m\u001b[0;34m)\u001b[0m\u001b[0;34m,\u001b[0m\u001b[0;34m\u001b[0m\u001b[0;34m\u001b[0m\u001b[0m\n\u001b[1;32m   1179\u001b[0m             \u001b[0mself\u001b[0m\u001b[0;34m.\u001b[0m\u001b[0m_parent_ident\u001b[0m\u001b[0;34m[\u001b[0m\u001b[0;34m\"shell\"\u001b[0m\u001b[0;34m]\u001b[0m\u001b[0;34m,\u001b[0m\u001b[0;34m\u001b[0m\u001b[0;34m\u001b[0m\u001b[0m\n",
            "\u001b[0;32m/usr/local/lib/python3.11/dist-packages/ipykernel/kernelbase.py\u001b[0m in \u001b[0;36m_input_request\u001b[0;34m(self, prompt, ident, parent, password)\u001b[0m\n\u001b[1;32m   1217\u001b[0m             \u001b[0;32mexcept\u001b[0m \u001b[0mKeyboardInterrupt\u001b[0m\u001b[0;34m:\u001b[0m\u001b[0;34m\u001b[0m\u001b[0;34m\u001b[0m\u001b[0m\n\u001b[1;32m   1218\u001b[0m                 \u001b[0;31m# re-raise KeyboardInterrupt, to truncate traceback\u001b[0m\u001b[0;34m\u001b[0m\u001b[0;34m\u001b[0m\u001b[0m\n\u001b[0;32m-> 1219\u001b[0;31m                 \u001b[0;32mraise\u001b[0m \u001b[0mKeyboardInterrupt\u001b[0m\u001b[0;34m(\u001b[0m\u001b[0;34m\"Interrupted by user\"\u001b[0m\u001b[0;34m)\u001b[0m \u001b[0;32mfrom\u001b[0m \u001b[0;32mNone\u001b[0m\u001b[0;34m\u001b[0m\u001b[0;34m\u001b[0m\u001b[0m\n\u001b[0m\u001b[1;32m   1220\u001b[0m             \u001b[0;32mexcept\u001b[0m \u001b[0mException\u001b[0m\u001b[0;34m:\u001b[0m\u001b[0;34m\u001b[0m\u001b[0;34m\u001b[0m\u001b[0m\n\u001b[1;32m   1221\u001b[0m                 \u001b[0mself\u001b[0m\u001b[0;34m.\u001b[0m\u001b[0mlog\u001b[0m\u001b[0;34m.\u001b[0m\u001b[0mwarning\u001b[0m\u001b[0;34m(\u001b[0m\u001b[0;34m\"Invalid Message:\"\u001b[0m\u001b[0;34m,\u001b[0m \u001b[0mexc_info\u001b[0m\u001b[0;34m=\u001b[0m\u001b[0;32mTrue\u001b[0m\u001b[0;34m)\u001b[0m\u001b[0;34m\u001b[0m\u001b[0;34m\u001b[0m\u001b[0m\n",
            "\u001b[0;31mKeyboardInterrupt\u001b[0m: Interrupted by user"
          ]
        }
      ],
      "source": [
        "#Question 4\n",
        "import random\n",
        "\n",
        "colors = [\"red\", \"green\", \"blue\", \"yellow\", \"orange\", \"purple\"]     #default colour\n",
        "attempts_limit = 10                                                 #chance given to player\n",
        "\n",
        "def generate_secret_code():                                         #function to randomly assign 4 colours into 4 positions\n",
        "    return random.sample(colors, 4)\n",
        "\n",
        "def get_player_guess():                                             #function for player to guess 4 colours\n",
        "    while True:\n",
        "        guess = input(\"Enter your guess (comma-separated colors): \").strip().lower().split(\",\")\n",
        "        if len(guess) == 4 and all(color in colors for color in guess): #input validation to check if player input only 4 colours & within default colour\n",
        "            return guess\n",
        "        print(\"Invalid guess. Please enter exactly 4 colors from the available options.\")\n",
        "\n",
        "def get_feedback(secret_code, guess):                               #compare the actual answer with the player's guess\n",
        "    exact_matches = sum(secret_code[i] == guess[i] for i in range(4)) #calculate how many exact match\n",
        "    color_matches = len(set(secret_code) & set(guess)) - exact_matches #calculate how many colour match (wrong position)\n",
        "    return exact_matches, color_matches\n",
        "\n",
        "def play_game():      #main function\n",
        "    secret_code = generate_secret_code()         #call function to assign 4 colours into different positions\n",
        "    print(\"Welcome to Mastermind!\")\n",
        "    print(\"Available colors:\", colors)\n",
        "    print(\"Guess the secret code of 4 colors.\")\n",
        "    print(\"You have\", attempts_limit, \"attempts.\")\n",
        "    print()\n",
        "\n",
        "    attempts = 0         #reset variable to 0\n",
        "    while attempts < attempts_limit:\n",
        "        guess = get_player_guess()   #call function to get user input\n",
        "        exact_matches, color_matches = get_feedback(secret_code, guess)   #call function to get result after comparison\n",
        "        attempts += 1\n",
        "        print(\"Attempt\", attempts)\n",
        "        print(\"Exact matches:\", exact_matches)\n",
        "        print(\"Color matches (excluding exact matches):\", color_matches)\n",
        "        print()\n",
        "\n",
        "        if guess == secret_code:    #win the game\n",
        "            print(\"Congratulations! You guessed the secret code!\")\n",
        "            return\n",
        "\n",
        "    print(\"Game over! You ran out of attempts.\")  #lose the game\n",
        "    print(\"The secret code was:\", secret_code)\n",
        "\n",
        "play_game()  #call main function"
      ]
    },
    {
      "cell_type": "markdown",
      "metadata": {
        "id": "lpRTMXGcWkjL"
      },
      "source": [
        "# Great Job!"
      ]
    }
  ],
  "metadata": {
    "colab": {
      "provenance": [],
      "include_colab_link": true
    },
    "kernelspec": {
      "display_name": "Python 3 (ipykernel)",
      "language": "python",
      "name": "python3"
    },
    "language_info": {
      "codemirror_mode": {
        "name": "ipython",
        "version": 3
      },
      "file_extension": ".py",
      "mimetype": "text/x-python",
      "name": "python",
      "nbconvert_exporter": "python",
      "pygments_lexer": "ipython3",
      "version": "3.11.7"
    }
  },
  "nbformat": 4,
  "nbformat_minor": 0
}